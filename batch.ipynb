{
 "cells": [
  {
   "cell_type": "code",
   "execution_count": 4,
   "id": "9ac38caf-6c3a-40d1-af63-30d228e648c6",
   "metadata": {},
   "outputs": [
    {
     "data": {
      "application/vnd.jupyter.widget-view+json": {
       "model_id": "654e0d4de46a4961909a0fd1c9fa7c5e",
       "version_major": 2,
       "version_minor": 0
      },
      "text/plain": [
       "Canvas(width=500)"
      ]
     },
     "metadata": {},
     "output_type": "display_data"
    }
   ],
   "source": [
    "from ipycanvas import Canvas, hold_canvas,RoughCanvas\n",
    "import numpy\n",
    "shape = [500,500]\n",
    "canvas = Canvas(width=shape[0], height=shape[1])\n",
    "canvas"
   ]
  },
  {
   "cell_type": "code",
   "execution_count": 38,
   "id": "ddd2edc6-b078-4ea0-9d3a-ad9b43dc822d",
   "metadata": {},
   "outputs": [
    {
     "name": "stdout",
     "output_type": "stream",
     "text": [
      "[[ 35 224 216]\n",
      " [113  24  15]\n",
      " [ 46 214 143]]\n",
      "[0.3184802  0.34435892 0.99006774]\n",
      "[  0   0   0 100 100 100 200   0 200 100 300 100 200   0 200 200 200 410\n",
      " 410 410 200 200]\n",
      "[  0   0   0 100 100 100 200   0 200 100 300 100 200   0 200 200 200 410\n",
      " 410 410 200 200]\n"
     ]
    }
   ],
   "source": [
    "canvas.clear()\n",
    "with hold_canvas(canvas):\n",
    "    points = [\n",
    "        [\n",
    "            [0,0], [0,100],[100,100]\n",
    "        ],\n",
    "        [\n",
    "            [200,0], [200,100],[300,100],[200,0]\n",
    "        ],\n",
    "        [\n",
    "            [200,200],[200,410],[410,410],[200,200]\n",
    "        ]\n",
    "    ]\n",
    "    n_poly = len(points)\n",
    "    colors = numpy.random.randint(low=0, high=255, size=(n_poly,3), dtype='uint8')\n",
    "    alpha = numpy.random.rand(n_poly)\n",
    "    canvas.batch_fill_polygons(points,colors, alpha)\n",
    "    canvas.line_width = 10\n",
    "    colors = numpy.random.randint(low=0, high=255, size=(n_poly,3), dtype='uint8')\n",
    "    canvas.batch_stroke_line_segments(points,colors, alpha)"
   ]
  },
  {
   "cell_type": "code",
   "execution_count": null,
   "id": "a772e2a1-efcf-46e0-8d5c-260d0302e8d3",
   "metadata": {},
   "outputs": [],
   "source": []
  },
  {
   "cell_type": "code",
   "execution_count": 10,
   "id": "0fb44fd7-ddf2-4342-bb61-fd3df4d388a0",
   "metadata": {},
   "outputs": [],
   "source": [
    "n = 1000\n",
    "with hold_canvas(canvas):\n",
    "    x = numpy.random.rand(n)* shape[0]\n",
    "    y = numpy.random.rand(n)* shape[0]\n",
    "    r = numpy.random.rand(n)* 10.0\n",
    "    colors = numpy.random.randint(low=0, high=255, size=(n,3), dtype='uint8')\n",
    "    alpha = numpy.random.rand(n)\n",
    "    canvas.batch_fill_circles(x,y,r,colors.ravel(), alpha)\n",
    "    # canvas.fill_rect(10,20, 10,20)\n"
   ]
  },
  {
   "cell_type": "code",
   "execution_count": null,
   "id": "f24385ab-02a5-4a80-891f-963b81cae5a1",
   "metadata": {},
   "outputs": [],
   "source": []
  },
  {
   "cell_type": "code",
   "execution_count": null,
   "id": "bdf9abea-c7f5-4d0c-802f-0777d13a4469",
   "metadata": {},
   "outputs": [],
   "source": []
  },
  {
   "cell_type": "code",
   "execution_count": null,
   "id": "1890510d-9b34-4b2a-8733-56ad7bf5dfd2",
   "metadata": {},
   "outputs": [],
   "source": []
  }
 ],
 "metadata": {
  "kernelspec": {
   "display_name": "Python 3 (ipykernel)",
   "language": "python",
   "name": "python3"
  },
  "language_info": {
   "codemirror_mode": {
    "name": "ipython",
    "version": 3
   },
   "file_extension": ".py",
   "mimetype": "text/x-python",
   "name": "python",
   "nbconvert_exporter": "python",
   "pygments_lexer": "ipython3",
   "version": "3.9.7"
  }
 },
 "nbformat": 4,
 "nbformat_minor": 5
}
