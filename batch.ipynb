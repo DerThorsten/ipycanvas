{
 "cells": [
  {
   "cell_type": "code",
   "execution_count": 1,
   "id": "b8815eb5-47c9-4160-a577-acdb7d9f7487",
   "metadata": {},
   "outputs": [
    {
     "data": {
      "application/vnd.jupyter.widget-view+json": {
       "model_id": "4145120c95c343d1984a10a7710602b2",
       "version_major": 2,
       "version_minor": 0
      },
      "text/plain": [
       "Canvas(width=500)"
      ]
     },
     "metadata": {},
     "output_type": "display_data"
    }
   ],
   "source": [
    "from ipycanvas import Canvas, hold_canvas,RoughCanvas\n",
    "import numpy\n",
    "shape = [500,500]\n",
    "canvas = Canvas(width=shape[0], height=shape[1])\n",
    "canvas"
   ]
  },
  {
   "cell_type": "code",
   "execution_count": 2,
   "id": "e49ea1fb-3b8b-41d2-b8bf-c39b292bf92d",
   "metadata": {},
   "outputs": [],
   "source": [
    "n_circles = 2000\n",
    "centers =  numpy.random.randint(low=0, high=500, size=(n_circles,2), dtype='int')\n",
    "colors = numpy.random.randint(low=0, high=255, size=(n_circles,3), dtype='uint8')\n",
    "rad = numpy.random.randint(low=10, high=20, size=(n_circles), dtype='uint8')\n",
    "alpha = numpy.random.rand(n_circles)\n",
    "canvas.batch_fill_circles(centers=centers, color=colors, radius=rad, alpha=alpha)"
   ]
  },
  {
   "cell_type": "code",
   "execution_count": 39,
   "id": "7783e0df-8587-4f84-b12d-afa05a521402",
   "metadata": {},
   "outputs": [
    {
     "name": "stdout",
     "output_type": "stream",
     "text": [
      "(1000, 5, 2)\n"
     ]
    }
   ],
   "source": [
    "n_poly = 1000\n",
    "n_points_per_poly = 5\n",
    "canvas.clear()\n",
    "rx = numpy.random.randint(low=0, high=canvas.width,  size=(n_poly , n_points_per_poly), dtype='int')\n",
    "ry = numpy.random.randint(low=0, high=canvas.height, size=(n_poly , n_points_per_poly), dtype='int')\n",
    "points = numpy.stack([rx,ry],-1)\n",
    "points = numpy.require(points, requirements=['C'])\n",
    "n_poly = len(points)\n",
    "colors_f = numpy.random.randint(low=0, high=255, size=(n_poly,3), dtype='uint8')\n",
    "colors_s = numpy.random.randint(low=0, high=255, size=(n_poly,3), dtype='uint8')\n",
    "alpha = numpy.random.rand(n_poly)\n",
    "canvas.line_width = 10\n",
    "colors = numpy.random.randint(low=0, high=255, size=(n_poly,3), dtype='uint8')\n",
    "print(points.shape)\n",
    "with hold_canvas(canvas):\n",
    "    canvas.batch_fill_polygons(points,colors_f, alpha)\n",
    "    canvas.batch_stroke_polygons(points,colors_s, alpha)\n",
    "    # canvas.batch_stroke_line_segments(points,colors_s, alpha)"
   ]
  }
 ],
 "metadata": {
  "kernelspec": {
   "display_name": "Python 3 (ipykernel)",
   "language": "python",
   "name": "python3"
  },
  "language_info": {
   "codemirror_mode": {
    "name": "ipython",
    "version": 3
   },
   "file_extension": ".py",
   "mimetype": "text/x-python",
   "name": "python",
   "nbconvert_exporter": "python",
   "pygments_lexer": "ipython3",
   "version": "3.9.7"
  }
 },
 "nbformat": 4,
 "nbformat_minor": 5
}
