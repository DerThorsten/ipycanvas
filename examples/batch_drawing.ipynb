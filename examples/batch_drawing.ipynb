{
 "cells": [
  {
   "cell_type": "markdown",
   "id": "3ad9d78d-8bb6-4d4b-ab5f-fd7bc8ec11ca",
   "metadata": {},
   "source": [
    "## Fast Batch Drawing:\n",
    "To speed up the drawing of many objects ipycanvas offers a batch api to draw many items to the canvas quickly"
   ]
  },
  {
   "cell_type": "code",
   "execution_count": 1,
   "id": "3ea1b15d-478b-41a2-83a1-3e66e5ff5d24",
   "metadata": {},
   "outputs": [],
   "source": [
    "import numpy as np\n",
    "from ipycanvas import Canvas, hold_canvas"
   ]
  },
  {
   "cell_type": "markdown",
   "id": "2117b808-65d2-44dd-a780-dd9100809a68",
   "metadata": {},
   "source": [
    "## Batch Draw Circles\n",
    "draw many circles each cirlcle has the same color"
   ]
  },
  {
   "cell_type": "code",
   "execution_count": 2,
   "id": "82b532b6-06b0-4255-b4fa-e03a6363ddf0",
   "metadata": {
    "tags": []
   },
   "outputs": [
    {
     "data": {
      "application/vnd.jupyter.widget-view+json": {
       "model_id": "92b6da42c15842298d3faf678a6381fa",
       "version_major": 2,
       "version_minor": 0
      },
      "text/plain": [
       "Canvas(height=300, width=800)"
      ]
     },
     "metadata": {},
     "output_type": "display_data"
    }
   ],
   "source": [
    "canvas = Canvas(width=800, height=300)\n",
    "# draw n circles with and random radii, random colors, and random alpha values\n",
    "n_circles = 100\n",
    "x = np.random.randint(0, canvas.width, size=(n_circles))\n",
    "y = np.random.randint(0, canvas.width, size=(n_circles))\n",
    "r = np.random.randint(10, 20, size=(n_circles))\n",
    "canvas.fill_style = 'red'\n",
    "alphas = np.random.random(n_circles)\n",
    "with hold_canvas(canvas):\n",
    "    # the filled circles\n",
    "    canvas.fill_circles(x,y,r)\n",
    "    # the outlines\n",
    "    canvas.stroke_style = 'blue'\n",
    "    canvas.stroke_circles(x,y,r)\n",
    "canvas"
   ]
  },
  {
   "cell_type": "markdown",
   "id": "7851edd8-2a84-4493-b331-a7cff5a08079",
   "metadata": {},
   "source": [
    "## Batch Draw Styled Circles\n",
    "draw many circles where each circle can have a diferent color and alpha channel"
   ]
  },
  {
   "cell_type": "code",
   "execution_count": 3,
   "id": "ce545eee-d9c0-47ab-afb7-274fa22389cd",
   "metadata": {},
   "outputs": [
    {
     "data": {
      "application/vnd.jupyter.widget-view+json": {
       "model_id": "e209d607b8de4226a5dbff72536b0ec7",
       "version_major": 2,
       "version_minor": 0
      },
      "text/plain": [
       "Canvas(height=300, width=800)"
      ]
     },
     "metadata": {},
     "output_type": "display_data"
    }
   ],
   "source": [
    "canvas = Canvas(width=800, height=300)\n",
    "n_circles = 1000\n",
    "x = np.random.randint(0, canvas.width, size=(n_circles))\n",
    "y = np.random.randint(0, canvas.width, size=(n_circles))\n",
    "r = np.random.randint(10, 20, size=(n_circles))\n",
    "colors_fill = np.random.randint(0, 255, size=(n_circles,3))\n",
    "colors_outline  = np.random.randint(0, 255, size=(n_circles,3))\n",
    "alphas = np.random.random(n_circles)\n",
    "with hold_canvas(canvas):\n",
    "    canvas.fill_styled_circles(x,y,r,color=colors_fill,alpha=alphas)\n",
    "    canvas.line_width = 2\n",
    "    canvas.stroke_styled_circles(x,y,r,color=colors_outline,alpha=1)\n",
    "canvas"
   ]
  },
  {
   "cell_type": "markdown",
   "id": "afea33c6-c6a8-4528-a1d9-7535a6810e9a",
   "metadata": {},
   "source": [
    "# Batch Draw Polygons / LineSegments\n",
    "## Case 1: All Polygons / LineSegments have the same number of points"
   ]
  },
  {
   "cell_type": "code",
   "execution_count": 4,
   "id": "885a5ec6-06a8-4430-815e-63c06f6fa2cb",
   "metadata": {},
   "outputs": [
    {
     "data": {
      "application/vnd.jupyter.widget-view+json": {
       "model_id": "f0bfa8a9abe541059c8f0898e913b652",
       "version_major": 2,
       "version_minor": 0
      },
      "text/plain": [
       "Canvas(height=300, width=800)"
      ]
     },
     "metadata": {},
     "output_type": "display_data"
    }
   ],
   "source": [
    "canvas = Canvas(width=800, height=300)\n",
    "n_polygons = 50\n",
    "\n",
    "# each polygon has 4 points\n",
    "n_points_per_polygon = 4\n",
    "\n",
    "polygons = np.zeros([n_polygons, n_points_per_polygon, 2])\n",
    "\n",
    "polygons[:,0,0] = 0.0\n",
    "polygons[:,0,1] = 0.0\n",
    "\n",
    "polygons[:,1,0] = 1.0\n",
    "polygons[:,1,1] = 0.0\n",
    "\n",
    "polygons[:,2,0] = 1.0\n",
    "polygons[:,2,1] = 1.0\n",
    "\n",
    "polygons[:,3,0] = 0.0\n",
    "polygons[:,3,1] = 1.0\n",
    "\n",
    "colors_fill = np.random.randint(0, 255, size=(n_polygons,3))\n",
    "colors_outline  = np.random.randint(0, 255, size=(n_polygons,3))\n",
    "\n",
    "# scale each polygon\n",
    "polygons *= np.linspace(1.0, 200.0, num=n_polygons)[:,None,None]\n",
    "\n",
    "# translate each polygon\n",
    "polygons += np.linspace(1.0, 100.0, num=n_polygons)[:,None,None]\n",
    "\n",
    "points_per_polygon = np.ones([n_polygons]) * n_points_per_polygon\n",
    "with hold_canvas(canvas):\n",
    "    canvas.stroke_styled_polygons(polygons, color=colors_fill, alpha=1)\n",
    "canvas"
   ]
  },
  {
   "cell_type": "code",
   "execution_count": 5,
   "id": "6bf31d36-01af-484c-9360-b97f504532a2",
   "metadata": {},
   "outputs": [
    {
     "data": {
      "application/vnd.jupyter.widget-view+json": {
       "model_id": "08ef9e57eb5f493697fc6aa2c63c32ac",
       "version_major": 2,
       "version_minor": 0
      },
      "text/plain": [
       "Canvas(height=300, width=800)"
      ]
     },
     "metadata": {},
     "output_type": "display_data"
    }
   ],
   "source": [
    "canvas = Canvas(width=800, height=300)\n",
    "\n",
    "n_line_segments = 20\n",
    "\n",
    "n_points_per_line_segment = 500\n",
    "\n",
    "line_segments = np.zeros([n_line_segments, n_points_per_line_segment, 2])\n",
    "\n",
    "x = np.linspace(0,canvas.width, num=n_points_per_line_segment)[None,:]\n",
    "line_segments[:,:,0] = np.linspace(0,canvas.width, num=n_points_per_line_segment)[None,:]\n",
    "line_segments[:,:,1] = (30.0*np.sin(x*0.1))[None,:]\n",
    "\n",
    "colors_outline  = np.random.randint(0, 255, size=(n_polygons,3))\n",
    "\n",
    "# translate line segments in y direction\n",
    "line_segments[:,:,1] += np.linspace(1.0, canvas.height, num=n_line_segments)[:,None]\n",
    "\n",
    "with hold_canvas(canvas):\n",
    "    canvas.stroke_styled_line_segments(line_segments, color=colors_fill, alpha=1)\n",
    "canvas"
   ]
  },
  {
   "cell_type": "markdown",
   "id": "3fb21075-bb46-41a1-b001-5d90f72ebebd",
   "metadata": {
    "tags": []
   },
   "source": [
    "# Batch Draw Polygons / LineSegments\n",
    "## Case 2: Polygons / LineSegments can have different number of Points. Points are specified as list of arrays"
   ]
  },
  {
   "cell_type": "code",
   "execution_count": 6,
   "id": "34643bf9-d9d9-4296-aa02-67531e6f500f",
   "metadata": {
    "tags": []
   },
   "outputs": [
    {
     "data": {
      "application/vnd.jupyter.widget-view+json": {
       "model_id": "219e9b29162d4d5897d53a461c97c232",
       "version_major": 2,
       "version_minor": 0
      },
      "text/plain": [
       "Canvas(height=400, width=400)"
      ]
     },
     "metadata": {},
     "output_type": "display_data"
    }
   ],
   "source": [
    "canvas = Canvas(width=400, height=400)\n",
    "\n",
    "triangle  = [(0,0),(0,40),(30,40)]                  # triangle\n",
    "rectangle = [(100,100),(300,100),(300,200),(100,200)] # rectangle\n",
    "irregular = np.random.randint(0, 400,size=(5,2)) # irregular with 5 sides\n",
    "polygons = [\n",
    "   triangle,\n",
    "       rectangle,\n",
    "   irregular\n",
    "]\n",
    "colors = [\n",
    "    (255,0,0),\n",
    "    (0,255,0),\n",
    "    (0,0,255)\n",
    "]\n",
    "\n",
    "with hold_canvas(canvas):\n",
    "    canvas.fill_styled_polygons(polygons, color=colors_fill, alpha=1)\n",
    "canvas"
   ]
  },
  {
   "cell_type": "markdown",
   "id": "24ac4301-a9c5-473f-bff1-376e62cc01f1",
   "metadata": {
    "tags": []
   },
   "source": [
    "# Batch Draw Polygons / LineSegments\n",
    "## Case 2: Polygons / LineSegments can have different number of Points. Points given as a flat array"
   ]
  },
  {
   "cell_type": "code",
   "execution_count": 8,
   "id": "272deb5a-fc18-44b0-af01-04f3afb28247",
   "metadata": {},
   "outputs": [
    {
     "data": {
      "application/vnd.jupyter.widget-view+json": {
       "model_id": "aa24d7e01ad04540be42d2702cb3ff74",
       "version_major": 2,
       "version_minor": 0
      },
      "text/plain": [
       "Canvas(height=400, width=400)"
      ]
     },
     "metadata": {},
     "output_type": "display_data"
    }
   ],
   "source": [
    "canvas = Canvas(width=400, height=400)\n",
    "n_polygons = 20\n",
    "points_per_polygon = np.random.randint(3, 6, size=n_polygons)\n",
    "total_points = np.sum(points_per_polygon)\n",
    "polygons = np.random.randint(0, 400, size=[total_points, 2])\n",
    "alpha = np.random.random(n_polygons)\n",
    "colors_fill = np.random.randint(0, 255, size=(n_polygons,3))\n",
    "colors_outline  = np.random.randint(0, 255, size=(n_polygons,3))\n",
    "\n",
    "with hold_canvas(canvas):\n",
    "    # the filling\n",
    "    canvas.fill_styled_polygons(polygons, points_per_polygon=points_per_polygon, color=colors_fill, alpha=alpha)\n",
    "    \n",
    "    # draw outlines ontop where each line has the same style\n",
    "    canvas.stroke_style = \"black\"\n",
    "    canvas.line_width = 2\n",
    "    canvas.stroke_polygons(polygons, points_per_polygon=points_per_polygon)\n",
    "canvas"
   ]
  }
 ],
 "metadata": {
  "kernelspec": {
   "display_name": "Python 3 (ipykernel)",
   "language": "python",
   "name": "python3"
  },
  "language_info": {
   "codemirror_mode": {
    "name": "ipython",
    "version": 3
   },
   "file_extension": ".py",
   "mimetype": "text/x-python",
   "name": "python",
   "nbconvert_exporter": "python",
   "pygments_lexer": "ipython3",
   "version": "3.9.7"
  }
 },
 "nbformat": 4,
 "nbformat_minor": 5
}
